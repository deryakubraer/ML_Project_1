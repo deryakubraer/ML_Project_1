{
 "cells": [
  {
   "cell_type": "code",
   "execution_count": 4,
   "id": "b0f03cf2",
   "metadata": {},
   "outputs": [],
   "source": [
    "#import csv file\n",
    "import pandas as pd\n",
    "spotify_raw = pd.read_csv('SpotifyFeatures.csv')\n",
    "\n",
    "#put the dataset into a dataframe\n",
    "spotify_df = pd.DataFrame(spotify_raw)"
   ]
  }
 ],
 "metadata": {
  "kernelspec": {
   "display_name": "base",
   "language": "python",
   "name": "python3"
  },
  "language_info": {
   "codemirror_mode": {
    "name": "ipython",
    "version": 3
   },
   "file_extension": ".py",
   "mimetype": "text/x-python",
   "name": "python",
   "nbconvert_exporter": "python",
   "pygments_lexer": "ipython3",
   "version": "3.12.7"
  }
 },
 "nbformat": 4,
 "nbformat_minor": 5
}
